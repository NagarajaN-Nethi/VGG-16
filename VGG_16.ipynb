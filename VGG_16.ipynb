{
  "nbformat": 4,
  "nbformat_minor": 0,
  "metadata": {
    "colab": {
      "name": "VGG 16.ipynb",
      "provenance": [],
      "collapsed_sections": [],
      "toc_visible": true,
      "authorship_tag": "ABX9TyMpClJrEn62/72+DaEYmZ+g",
      "include_colab_link": true
    },
    "kernelspec": {
      "name": "python3",
      "display_name": "Python 3"
    },
    "accelerator": "GPU"
  },
  "cells": [
    {
      "cell_type": "markdown",
      "metadata": {
        "id": "view-in-github",
        "colab_type": "text"
      },
      "source": [
        "<a href=\"https://colab.research.google.com/github/NagarajaN-Nethi/VGG-16/blob/master/VGG_16.ipynb\" target=\"_parent\"><img src=\"https://colab.research.google.com/assets/colab-badge.svg\" alt=\"Open In Colab\"/></a>"
      ]
    },
    {
      "cell_type": "code",
      "metadata": {
        "id": "a1SLLRFHQDn8",
        "colab_type": "code",
        "colab": {}
      },
      "source": [
        "!pip install -q kaggle"
      ],
      "execution_count": 1,
      "outputs": []
    },
    {
      "cell_type": "code",
      "metadata": {
        "id": "WwoYmTKwQNYu",
        "colab_type": "code",
        "colab": {}
      },
      "source": [
        "#from google.colab import files\n",
        "#files.upload()"
      ],
      "execution_count": null,
      "outputs": []
    },
    {
      "cell_type": "code",
      "metadata": {
        "id": "nobRxe-xQSb3",
        "colab_type": "code",
        "colab": {
          "base_uri": "https://localhost:8080/",
          "height": 34
        },
        "outputId": "432e082f-6c0d-4635-a2c9-5b3df4a40f41"
      },
      "source": [
        "!mkdir ~/.kaggle\n",
        "!cp kaggle.json ~/.kaggle/\n",
        "!chmod 600 ~/.kaggle/kaggle.json"
      ],
      "execution_count": null,
      "outputs": [
        {
          "output_type": "stream",
          "text": [
            "mkdir: cannot create directory ‘/root/.kaggle’: File exists\n"
          ],
          "name": "stdout"
        }
      ]
    },
    {
      "cell_type": "code",
      "metadata": {
        "id": "Ncl7-a7OQZln",
        "colab_type": "code",
        "colab": {
          "base_uri": "https://localhost:8080/",
          "height": 68
        },
        "outputId": "17582ce9-90b6-4a6d-a94c-110cb7de79f7"
      },
      "source": [
        "!kaggle datasets download -d paultimothymooney/chest-xray-pneumonia"
      ],
      "execution_count": null,
      "outputs": [
        {
          "output_type": "stream",
          "text": [
            "Downloading chest-xray-pneumonia.zip to /content\n",
            "100% 2.29G/2.29G [00:59<00:00, 62.4MB/s]\n",
            "100% 2.29G/2.29G [00:59<00:00, 41.3MB/s]\n"
          ],
          "name": "stdout"
        }
      ]
    },
    {
      "cell_type": "code",
      "metadata": {
        "id": "yl2rm9EFRIm9",
        "colab_type": "code",
        "colab": {}
      },
      "source": [
        "!mkdir data\n",
        "!unzip chest-xray-pneumonia.zip -d data"
      ],
      "execution_count": null,
      "outputs": []
    },
    {
      "cell_type": "code",
      "metadata": {
        "id": "Ltz9JS19RQDn",
        "colab_type": "code",
        "colab": {}
      },
      "source": [
        "#Importing Libraries\n",
        "from keras.layers import Lambda, Dense, Flatten, Input, Dropout, BatchNormalization\n",
        "from keras.models import Model,  Sequential\n",
        "from keras.applications.vgg16 import VGG16, preprocess_input\n",
        "from keras.preprocessing import image\n",
        "from keras.preprocessing.image import ImageDataGenerator\n",
        "\n",
        "import numpy as np\n",
        "from glob import glob\n",
        "from matplotlib import pyplot as plt"
      ],
      "execution_count": null,
      "outputs": []
    },
    {
      "cell_type": "code",
      "metadata": {
        "id": "kxpiT4_AR0hS",
        "colab_type": "code",
        "colab": {}
      },
      "source": [
        "#Image size\n",
        "image_size = [224, 224]"
      ],
      "execution_count": null,
      "outputs": []
    },
    {
      "cell_type": "code",
      "metadata": {
        "id": "xL3WcnUvSNlj",
        "colab_type": "code",
        "colab": {}
      },
      "source": [
        "#data path\n",
        "\n",
        "training_path = '/content/data/chest_xray/train'\n",
        "testing_path = '/content/data/chest_xray/test'\n"
      ],
      "execution_count": null,
      "outputs": []
    },
    {
      "cell_type": "code",
      "metadata": {
        "id": "RvFofG3HSPKq",
        "colab_type": "code",
        "colab": {}
      },
      "source": [
        "train_datagen = ImageDataGenerator(rescale = 1. /255,\n",
        "                                   shear_range = 0.2,\n",
        "                                   zoom_range = 0.2,\n",
        "                                   horizontal_flip = True)"
      ],
      "execution_count": null,
      "outputs": []
    },
    {
      "cell_type": "code",
      "metadata": {
        "id": "4zUKB9GjSOxA",
        "colab_type": "code",
        "colab": {
          "base_uri": "https://localhost:8080/",
          "height": 34
        },
        "outputId": "c84f8306-21ee-442d-919a-086ad626d761"
      },
      "source": [
        "training_set = train_datagen.flow_from_directory(training_path,\n",
        "                                                 target_size = image_size,\n",
        "                                                 batch_size = 32,\n",
        "                                                 class_mode = 'categorical')"
      ],
      "execution_count": null,
      "outputs": [
        {
          "output_type": "stream",
          "text": [
            "Found 5216 images belonging to 2 classes.\n"
          ],
          "name": "stdout"
        }
      ]
    },
    {
      "cell_type": "code",
      "metadata": {
        "id": "Hr2vwhXlSO10",
        "colab_type": "code",
        "colab": {}
      },
      "source": [
        "test_datagen = ImageDataGenerator(rescale = 1. /255)"
      ],
      "execution_count": null,
      "outputs": []
    },
    {
      "cell_type": "code",
      "metadata": {
        "id": "XDQ1usoySOiV",
        "colab_type": "code",
        "colab": {
          "base_uri": "https://localhost:8080/",
          "height": 34
        },
        "outputId": "13cc1596-8630-46e0-a12c-76df3db4e04e"
      },
      "source": [
        "test_set = train_datagen.flow_from_directory(testing_path,\n",
        "                                                 target_size = image_size,\n",
        "                                                 batch_size = 32,\n",
        "                                                 class_mode = 'categorical')"
      ],
      "execution_count": null,
      "outputs": [
        {
          "output_type": "stream",
          "text": [
            "Found 624 images belonging to 2 classes.\n"
          ],
          "name": "stdout"
        }
      ]
    },
    {
      "cell_type": "code",
      "metadata": {
        "id": "clP7hBq0R6EL",
        "colab_type": "code",
        "colab": {
          "base_uri": "https://localhost:8080/",
          "height": 51
        },
        "outputId": "bac0c247-ef75-47da-be66-4dae4d6a7fc4"
      },
      "source": [
        "# add preprocessing layer to start VGG\n",
        "vgg = VGG16(input_shape = image_size + [3], weights='imagenet', include_top=False)"
      ],
      "execution_count": null,
      "outputs": [
        {
          "output_type": "stream",
          "text": [
            "Downloading data from https://storage.googleapis.com/tensorflow/keras-applications/vgg16/vgg16_weights_tf_dim_ordering_tf_kernels_notop.h5\n",
            "58892288/58889256 [==============================] - 0s 0us/step\n"
          ],
          "name": "stdout"
        }
      ]
    },
    {
      "cell_type": "code",
      "metadata": {
        "id": "aQ7l-ZCBR7hZ",
        "colab_type": "code",
        "colab": {}
      },
      "source": [
        "for layer in vgg.layers:\n",
        "  layer.trainable = False"
      ],
      "execution_count": null,
      "outputs": []
    },
    {
      "cell_type": "code",
      "metadata": {
        "id": "BYtlS5uaR8xo",
        "colab_type": "code",
        "colab": {}
      },
      "source": [
        "folders = glob('/content/data/chest_xray/train/*')"
      ],
      "execution_count": null,
      "outputs": []
    },
    {
      "cell_type": "code",
      "metadata": {
        "id": "16itTicmSCbc",
        "colab_type": "code",
        "colab": {
          "base_uri": "https://localhost:8080/",
          "height": 51
        },
        "outputId": "11212ef8-403c-4a46-fb87-69d46c8545d5"
      },
      "source": [
        "folders"
      ],
      "execution_count": null,
      "outputs": [
        {
          "output_type": "execute_result",
          "data": {
            "text/plain": [
              "['/content/data/chest_xray/train/NORMAL',\n",
              " '/content/data/chest_xray/train/PNEUMONIA']"
            ]
          },
          "metadata": {
            "tags": []
          },
          "execution_count": 45
        }
      ]
    },
    {
      "cell_type": "code",
      "metadata": {
        "id": "3CdzptaISe0g",
        "colab_type": "code",
        "colab": {
          "base_uri": "https://localhost:8080/",
          "height": 867
        },
        "outputId": "54d7693a-9dec-4c88-a643-7eb74a5f6947"
      },
      "source": [
        "#Initializing with the pre trained model\n",
        "X = Flatten()(vgg.output)\n",
        "#Defining the output layer\n",
        "predictions = Dense(len(folders), activation = 'softmax')(X)\n",
        "#Creating the model\n",
        "model = Model(inputs = vgg.input, outputs = predictions)\n",
        "#model summary\n",
        "model.summary()"
      ],
      "execution_count": null,
      "outputs": [
        {
          "output_type": "stream",
          "text": [
            "Model: \"functional_1\"\n",
            "_________________________________________________________________\n",
            "Layer (type)                 Output Shape              Param #   \n",
            "=================================================================\n",
            "input_1 (InputLayer)         [(None, 224, 224, 3)]     0         \n",
            "_________________________________________________________________\n",
            "block1_conv1 (Conv2D)        (None, 224, 224, 64)      1792      \n",
            "_________________________________________________________________\n",
            "block1_conv2 (Conv2D)        (None, 224, 224, 64)      36928     \n",
            "_________________________________________________________________\n",
            "block1_pool (MaxPooling2D)   (None, 112, 112, 64)      0         \n",
            "_________________________________________________________________\n",
            "block2_conv1 (Conv2D)        (None, 112, 112, 128)     73856     \n",
            "_________________________________________________________________\n",
            "block2_conv2 (Conv2D)        (None, 112, 112, 128)     147584    \n",
            "_________________________________________________________________\n",
            "block2_pool (MaxPooling2D)   (None, 56, 56, 128)       0         \n",
            "_________________________________________________________________\n",
            "block3_conv1 (Conv2D)        (None, 56, 56, 256)       295168    \n",
            "_________________________________________________________________\n",
            "block3_conv2 (Conv2D)        (None, 56, 56, 256)       590080    \n",
            "_________________________________________________________________\n",
            "block3_conv3 (Conv2D)        (None, 56, 56, 256)       590080    \n",
            "_________________________________________________________________\n",
            "block3_pool (MaxPooling2D)   (None, 28, 28, 256)       0         \n",
            "_________________________________________________________________\n",
            "block4_conv1 (Conv2D)        (None, 28, 28, 512)       1180160   \n",
            "_________________________________________________________________\n",
            "block4_conv2 (Conv2D)        (None, 28, 28, 512)       2359808   \n",
            "_________________________________________________________________\n",
            "block4_conv3 (Conv2D)        (None, 28, 28, 512)       2359808   \n",
            "_________________________________________________________________\n",
            "block4_pool (MaxPooling2D)   (None, 14, 14, 512)       0         \n",
            "_________________________________________________________________\n",
            "block5_conv1 (Conv2D)        (None, 14, 14, 512)       2359808   \n",
            "_________________________________________________________________\n",
            "block5_conv2 (Conv2D)        (None, 14, 14, 512)       2359808   \n",
            "_________________________________________________________________\n",
            "block5_conv3 (Conv2D)        (None, 14, 14, 512)       2359808   \n",
            "_________________________________________________________________\n",
            "block5_pool (MaxPooling2D)   (None, 7, 7, 512)         0         \n",
            "_________________________________________________________________\n",
            "flatten_2 (Flatten)          (None, 25088)             0         \n",
            "_________________________________________________________________\n",
            "dense (Dense)                (None, 2)                 50178     \n",
            "=================================================================\n",
            "Total params: 14,764,866\n",
            "Trainable params: 50,178\n",
            "Non-trainable params: 14,714,688\n",
            "_________________________________________________________________\n"
          ],
          "name": "stdout"
        }
      ]
    },
    {
      "cell_type": "code",
      "metadata": {
        "id": "JmHb46IzSDUx",
        "colab_type": "code",
        "colab": {}
      },
      "source": [
        "#Compile the model\n",
        "model.compile(optimizer = 'adam',\n",
        "              loss = 'categorical_crossentropy',\n",
        "              metrics = ['accuracy'])"
      ],
      "execution_count": null,
      "outputs": []
    },
    {
      "cell_type": "code",
      "metadata": {
        "id": "SdYIAU9KSjrp",
        "colab_type": "code",
        "colab": {
          "base_uri": "https://localhost:8080/",
          "height": 187
        },
        "outputId": "a82d3a10-a159-4d20-ffbb-20544096f66c"
      },
      "source": [
        "history = model.fit(training_set,\n",
        "                              validation_data=test_set,\n",
        "                              epochs=5,\n",
        "                              steps_per_epoch=len(training_set),\n",
        "                              validation_steps=len(test_set))"
      ],
      "execution_count": null,
      "outputs": [
        {
          "output_type": "stream",
          "text": [
            "Epoch 1/5\n",
            "163/163 [==============================] - 139s 851ms/step - loss: 0.1959 - accuracy: 0.9227 - val_loss: 0.3353 - val_accuracy: 0.8782\n",
            "Epoch 2/5\n",
            "163/163 [==============================] - 135s 828ms/step - loss: 0.1146 - accuracy: 0.9526 - val_loss: 0.4846 - val_accuracy: 0.8365\n",
            "Epoch 3/5\n",
            "163/163 [==============================] - 135s 826ms/step - loss: 0.0939 - accuracy: 0.9649 - val_loss: 0.8666 - val_accuracy: 0.7468\n",
            "Epoch 4/5\n",
            "163/163 [==============================] - 134s 825ms/step - loss: 0.0988 - accuracy: 0.9626 - val_loss: 0.3685 - val_accuracy: 0.8894\n",
            "Epoch 5/5\n",
            "163/163 [==============================] - 134s 825ms/step - loss: 0.0808 - accuracy: 0.9703 - val_loss: 0.6615 - val_accuracy: 0.8285\n"
          ],
          "name": "stdout"
        }
      ]
    },
    {
      "cell_type": "code",
      "metadata": {
        "id": "QaxdauagSkW1",
        "colab_type": "code",
        "colab": {}
      },
      "source": [
        "#define plots used in the tensorflow proffesional cerificate on Coursera\n",
        "#source https://www.coursera.org/professional-certificates/tensorflow-in-practice\n",
        "def plot_graphs(history, string):\n",
        "  plt.plot(history.history[string])\n",
        "  plt.plot(history.history['val_'+string])\n",
        "  plt.xlabel(\"Epochs\")\n",
        "  plt.ylabel(string)\n",
        "  plt.legend([string, 'val_'+string])\n",
        "  plt.show()"
      ],
      "execution_count": null,
      "outputs": []
    },
    {
      "cell_type": "code",
      "metadata": {
        "id": "k4Z_Byw2S6xz",
        "colab_type": "code",
        "colab": {
          "base_uri": "https://localhost:8080/",
          "height": 544
        },
        "outputId": "00d2d4d4-42ba-4d2a-f77b-a3b9dbee2f57"
      },
      "source": [
        "plot_graphs(history, \"accuracy\")\n",
        "plot_graphs(history, \"loss\")"
      ],
      "execution_count": null,
      "outputs": [
        {
          "output_type": "display_data",
          "data": {
            "image/png": "[encoded data removed]",
            "text/plain": [
              "<Figure size 432x288 with 1 Axes>"
            ]
          },
          "metadata": {
            "tags": [],
            "needs_background": "light"
          }
        },
        {
          "output_type": "display_data",
          "data": {
            "image/png": "[encoded data removed]",
            "text/plain": [
              "<Figure size 432x288 with 1 Axes>"
            ]
          },
          "metadata": {
            "tags": [],
            "needs_background": "light"
          }
        }
      ]
    },
    {
      "cell_type": "markdown",
      "metadata": {
        "id": "iqtdjAVPWr2d",
        "colab_type": "text"
      },
      "source": [
        "#Using a Dropout layer to prevent overfit"
      ]
    },
    {
      "cell_type": "code",
      "metadata": {
        "id": "DGPqMhBXW1uy",
        "colab_type": "code",
        "colab": {
          "base_uri": "https://localhost:8080/",
          "height": 1000
        },
        "outputId": "2bcc1cd7-ac67-4e64-cedd-9b623b916ce7"
      },
      "source": [
        "#Initializing with the pre trained model\n",
        "X = Flatten()(vgg.output)\n",
        "#Add a dropout layer\n",
        "X = Dropout(0.5)(X)\n",
        "#Defining the output layer\n",
        "predictions = Dense(len(folders), activation = 'softmax')(X)\n",
        "#Creating the model\n",
        "model = Model(inputs = vgg.input, outputs = predictions)\n",
        "#model summary\n",
        "model.summary()\n",
        "#Compile the model\n",
        "model.compile(optimizer = 'adam',\n",
        "              loss = 'categorical_crossentropy',\n",
        "              metrics = ['accuracy'])\n",
        "history = model.fit(training_set,\n",
        "                              validation_data=test_set,\n",
        "                              epochs=5,\n",
        "                              steps_per_epoch=len(training_set),\n",
        "                              validation_steps=len(test_set))\n",
        "plot_graphs(history, \"accuracy\")\n",
        "plot_graphs(history, \"loss\")"
      ],
      "execution_count": null,
      "outputs": [
        {
          "output_type": "stream",
          "text": [
            "Model: \"functional_3\"\n",
            "_________________________________________________________________\n",
            "Layer (type)                 Output Shape              Param #   \n",
            "=================================================================\n",
            "input_1 (InputLayer)         [(None, 224, 224, 3)]     0         \n",
            "_________________________________________________________________\n",
            "block1_conv1 (Conv2D)        (None, 224, 224, 64)      1792      \n",
            "_________________________________________________________________\n",
            "block1_conv2 (Conv2D)        (None, 224, 224, 64)      36928     \n",
            "_________________________________________________________________\n",
            "block1_pool (MaxPooling2D)   (None, 112, 112, 64)      0         \n",
            "_________________________________________________________________\n",
            "block2_conv1 (Conv2D)        (None, 112, 112, 128)     73856     \n",
            "_________________________________________________________________\n",
            "block2_conv2 (Conv2D)        (None, 112, 112, 128)     147584    \n",
            "_________________________________________________________________\n",
            "block2_pool (MaxPooling2D)   (None, 56, 56, 128)       0         \n",
            "_________________________________________________________________\n",
            "block3_conv1 (Conv2D)        (None, 56, 56, 256)       295168    \n",
            "_________________________________________________________________\n",
            "block3_conv2 (Conv2D)        (None, 56, 56, 256)       590080    \n",
            "_________________________________________________________________\n",
            "block3_conv3 (Conv2D)        (None, 56, 56, 256)       590080    \n",
            "_________________________________________________________________\n",
            "block3_pool (MaxPooling2D)   (None, 28, 28, 256)       0         \n",
            "_________________________________________________________________\n",
            "block4_conv1 (Conv2D)        (None, 28, 28, 512)       1180160   \n",
            "_________________________________________________________________\n",
            "block4_conv2 (Conv2D)        (None, 28, 28, 512)       2359808   \n",
            "_________________________________________________________________\n",
            "block4_conv3 (Conv2D)        (None, 28, 28, 512)       2359808   \n",
            "_________________________________________________________________\n",
            "block4_pool (MaxPooling2D)   (None, 14, 14, 512)       0         \n",
            "_________________________________________________________________\n",
            "block5_conv1 (Conv2D)        (None, 14, 14, 512)       2359808   \n",
            "_________________________________________________________________\n",
            "block5_conv2 (Conv2D)        (None, 14, 14, 512)       2359808   \n",
            "_________________________________________________________________\n",
            "block5_conv3 (Conv2D)        (None, 14, 14, 512)       2359808   \n",
            "_________________________________________________________________\n",
            "block5_pool (MaxPooling2D)   (None, 7, 7, 512)         0         \n",
            "_________________________________________________________________\n",
            "flatten_3 (Flatten)          (None, 25088)             0         \n",
            "_________________________________________________________________\n",
            "dropout (Dropout)            (None, 25088)             0         \n",
            "_________________________________________________________________\n",
            "dense_1 (Dense)              (None, 2)                 50178     \n",
            "=================================================================\n",
            "Total params: 14,764,866\n",
            "Trainable params: 50,178\n",
            "Non-trainable params: 14,714,688\n",
            "_________________________________________________________________\n",
            "Epoch 1/5\n",
            "163/163 [==============================] - 134s 821ms/step - loss: 0.2055 - accuracy: 0.9199 - val_loss: 0.4596 - val_accuracy: 0.8494\n",
            "Epoch 2/5\n",
            "163/163 [==============================] - 134s 823ms/step - loss: 0.1317 - accuracy: 0.9486 - val_loss: 0.6901 - val_accuracy: 0.8061\n",
            "Epoch 3/5\n",
            "163/163 [==============================] - 135s 830ms/step - loss: 0.1099 - accuracy: 0.9572 - val_loss: 0.5963 - val_accuracy: 0.8349\n",
            "Epoch 4/5\n",
            "163/163 [==============================] - 135s 826ms/step - loss: 0.1396 - accuracy: 0.9513 - val_loss: 0.6135 - val_accuracy: 0.8446\n",
            "Epoch 5/5\n",
            "163/163 [==============================] - 135s 828ms/step - loss: 0.1433 - accuracy: 0.9528 - val_loss: 0.7594 - val_accuracy: 0.8285\n"
          ],
          "name": "stdout"
        },
        {
          "output_type": "display_data",
          "data": {
            "image/png": "[encoded data removed]",
            "text/plain": [
              "<Figure size 432x288 with 1 Axes>"
            ]
          },
          "metadata": {
            "tags": [],
            "needs_background": "light"
          }
        },
        {
          "output_type": "display_data",
          "data": {
            "image/png": "[encoded data removed]",
            "text/plain": [
              "<Figure size 432x288 with 1 Axes>"
            ]
          },
          "metadata": {
            "tags": [],
            "needs_background": "light"
          }
        }
      ]
    },
    {
      "cell_type": "code",
      "metadata": {
        "id": "qo72MGFGYzeU",
        "colab_type": "code",
        "colab": {
          "base_uri": "https://localhost:8080/",
          "height": 1000
        },
        "outputId": "9b5af2e7-d347-4599-f5e4-3f26978b7207"
      },
      "source": [
        "#Initializing with the pre trained model\n",
        "X = Flatten()(vgg.output)\n",
        "#Add a dropout layer\n",
        "X = Dropout(0.5)(X)\n",
        "X = Dropout(0.5)(X)\n",
        "#Defining the output layer\n",
        "predictions = Dense(len(folders), activation = 'softmax')(X)\n",
        "#Creating the model\n",
        "model = Model(inputs = vgg.input, outputs = predictions)\n",
        "#model summary\n",
        "model.summary()\n",
        "#Compile the model\n",
        "model.compile(optimizer = 'adam',\n",
        "              loss = 'categorical_crossentropy',\n",
        "              metrics = ['accuracy'])\n",
        "history = model.fit(training_set,\n",
        "                              validation_data=test_set,\n",
        "                              epochs=10,\n",
        "                              steps_per_epoch=len(training_set),\n",
        "                              validation_steps=len(test_set))\n",
        "plot_graphs(history, \"accuracy\")\n",
        "plot_graphs(history, \"loss\")"
      ],
      "execution_count": null,
      "outputs": [
        {
          "output_type": "stream",
          "text": [
            "Model: \"functional_5\"\n",
            "_________________________________________________________________\n",
            "Layer (type)                 Output Shape              Param #   \n",
            "=================================================================\n",
            "input_1 (InputLayer)         [(None, 224, 224, 3)]     0         \n",
            "_________________________________________________________________\n",
            "block1_conv1 (Conv2D)        (None, 224, 224, 64)      1792      \n",
            "_________________________________________________________________\n",
            "block1_conv2 (Conv2D)        (None, 224, 224, 64)      36928     \n",
            "_________________________________________________________________\n",
            "block1_pool (MaxPooling2D)   (None, 112, 112, 64)      0         \n",
            "_________________________________________________________________\n",
            "block2_conv1 (Conv2D)        (None, 112, 112, 128)     73856     \n",
            "_________________________________________________________________\n",
            "block2_conv2 (Conv2D)        (None, 112, 112, 128)     147584    \n",
            "_________________________________________________________________\n",
            "block2_pool (MaxPooling2D)   (None, 56, 56, 128)       0         \n",
            "_________________________________________________________________\n",
            "block3_conv1 (Conv2D)        (None, 56, 56, 256)       295168    \n",
            "_________________________________________________________________\n",
            "block3_conv2 (Conv2D)        (None, 56, 56, 256)       590080    \n",
            "_________________________________________________________________\n",
            "block3_conv3 (Conv2D)        (None, 56, 56, 256)       590080    \n",
            "_________________________________________________________________\n",
            "block3_pool (MaxPooling2D)   (None, 28, 28, 256)       0         \n",
            "_________________________________________________________________\n",
            "block4_conv1 (Conv2D)        (None, 28, 28, 512)       1180160   \n",
            "_________________________________________________________________\n",
            "block4_conv2 (Conv2D)        (None, 28, 28, 512)       2359808   \n",
            "_________________________________________________________________\n",
            "block4_conv3 (Conv2D)        (None, 28, 28, 512)       2359808   \n",
            "_________________________________________________________________\n",
            "block4_pool (MaxPooling2D)   (None, 14, 14, 512)       0         \n",
            "_________________________________________________________________\n",
            "block5_conv1 (Conv2D)        (None, 14, 14, 512)       2359808   \n",
            "_________________________________________________________________\n",
            "block5_conv2 (Conv2D)        (None, 14, 14, 512)       2359808   \n",
            "_________________________________________________________________\n",
            "block5_conv3 (Conv2D)        (None, 14, 14, 512)       2359808   \n",
            "_________________________________________________________________\n",
            "block5_pool (MaxPooling2D)   (None, 7, 7, 512)         0         \n",
            "_________________________________________________________________\n",
            "flatten_4 (Flatten)          (None, 25088)             0         \n",
            "_________________________________________________________________\n",
            "dropout_1 (Dropout)          (None, 25088)             0         \n",
            "_________________________________________________________________\n",
            "dropout_2 (Dropout)          (None, 25088)             0         \n",
            "_________________________________________________________________\n",
            "dense_2 (Dense)              (None, 2)                 50178     \n",
            "=================================================================\n",
            "Total params: 14,764,866\n",
            "Trainable params: 50,178\n",
            "Non-trainable params: 14,714,688\n",
            "_________________________________________________________________\n",
            "Epoch 1/10\n",
            "163/163 [==============================] - 135s 831ms/step - loss: 0.3279 - accuracy: 0.8892 - val_loss: 1.1610 - val_accuracy: 0.6891\n",
            "Epoch 2/10\n",
            "163/163 [==============================] - 137s 840ms/step - loss: 0.1860 - accuracy: 0.9306 - val_loss: 0.6931 - val_accuracy: 0.8013\n",
            "Epoch 3/10\n",
            "163/163 [==============================] - 136s 837ms/step - loss: 0.1750 - accuracy: 0.9396 - val_loss: 0.3820 - val_accuracy: 0.8974\n",
            "Epoch 4/10\n",
            "163/163 [==============================] - 137s 843ms/step - loss: 0.1790 - accuracy: 0.9398 - val_loss: 0.7139 - val_accuracy: 0.8333\n",
            "Epoch 5/10\n",
            "163/163 [==============================] - 138s 849ms/step - loss: 0.1788 - accuracy: 0.9413 - val_loss: 1.1606 - val_accuracy: 0.7532\n",
            "Epoch 6/10\n",
            "163/163 [==============================] - 137s 840ms/step - loss: 0.1835 - accuracy: 0.9442 - val_loss: 0.3795 - val_accuracy: 0.9087\n",
            "Epoch 7/10\n",
            "163/163 [==============================] - 137s 838ms/step - loss: 0.1966 - accuracy: 0.9448 - val_loss: 0.5481 - val_accuracy: 0.8702\n",
            "Epoch 8/10\n",
            "163/163 [==============================] - 136s 836ms/step - loss: 0.1998 - accuracy: 0.9444 - val_loss: 1.2428 - val_accuracy: 0.7628\n",
            "Epoch 9/10\n",
            "163/163 [==============================] - 136s 836ms/step - loss: 0.2078 - accuracy: 0.9423 - val_loss: 0.6271 - val_accuracy: 0.8782\n",
            "Epoch 10/10\n",
            "163/163 [==============================] - 136s 835ms/step - loss: 0.1904 - accuracy: 0.9482 - val_loss: 1.0133 - val_accuracy: 0.8205\n"
          ],
          "name": "stdout"
        },
        {
          "output_type": "display_data",
          "data": {
            "image/png": "[encoded data removed]",
            "text/plain": [
              "<Figure size 432x288 with 1 Axes>"
            ]
          },
          "metadata": {
            "tags": [],
            "needs_background": "light"
          }
        },
        {
          "output_type": "display_data",
          "data": {
            "image/png": "[encoded data removed]",
            "text/plain": [
              "<Figure size 432x288 with 1 Axes>"
            ]
          },
          "metadata": {
            "tags": [],
            "needs_background": "light"
          }
        }
      ]
    },
    {
      "cell_type": "code",
      "metadata": {
        "id": "1pS5HycYeyZ0",
        "colab_type": "code",
        "colab": {
          "base_uri": "https://localhost:8080/",
          "height": 1000
        },
        "outputId": "ad26a0e8-6db8-4fbe-f884-35a71df4c69d"
      },
      "source": [
        "#Initializing with the pre trained model\n",
        "X = Flatten()(vgg.output)\n",
        "#Add a dropout layer\n",
        "X = Dropout(0.5)(X)\n",
        "X = Dropout(0.5)(X)\n",
        "X = BatchNormalization()(X)\n",
        "#Defining the output layer\n",
        "predictions = Dense(len(folders), activation = 'softmax')(X)\n",
        "#Creating the model\n",
        "model = Model(inputs = vgg.input, outputs = predictions)\n",
        "#model summary\n",
        "model.summary()\n",
        "#Compile the model\n",
        "model.compile(optimizer = 'adam',\n",
        "              loss = 'categorical_crossentropy',\n",
        "              metrics = ['accuracy'])\n",
        "history = model.fit(training_set,\n",
        "                              validation_data=test_set,\n",
        "                              epochs=10,\n",
        "                              steps_per_epoch=len(training_set),\n",
        "                              validation_steps=len(test_set))\n",
        "plot_graphs(history, \"accuracy\")\n",
        "plot_graphs(history, \"loss\")"
      ],
      "execution_count": null,
      "outputs": [
        {
          "output_type": "stream",
          "text": [
            "Model: \"functional_7\"\n",
            "_________________________________________________________________\n",
            "Layer (type)                 Output Shape              Param #   \n",
            "=================================================================\n",
            "input_1 (InputLayer)         [(None, 224, 224, 3)]     0         \n",
            "_________________________________________________________________\n",
            "block1_conv1 (Conv2D)        (None, 224, 224, 64)      1792      \n",
            "_________________________________________________________________\n",
            "block1_conv2 (Conv2D)        (None, 224, 224, 64)      36928     \n",
            "_________________________________________________________________\n",
            "block1_pool (MaxPooling2D)   (None, 112, 112, 64)      0         \n",
            "_________________________________________________________________\n",
            "block2_conv1 (Conv2D)        (None, 112, 112, 128)     73856     \n",
            "_________________________________________________________________\n",
            "block2_conv2 (Conv2D)        (None, 112, 112, 128)     147584    \n",
            "_________________________________________________________________\n",
            "block2_pool (MaxPooling2D)   (None, 56, 56, 128)       0         \n",
            "_________________________________________________________________\n",
            "block3_conv1 (Conv2D)        (None, 56, 56, 256)       295168    \n",
            "_________________________________________________________________\n",
            "block3_conv2 (Conv2D)        (None, 56, 56, 256)       590080    \n",
            "_________________________________________________________________\n",
            "block3_conv3 (Conv2D)        (None, 56, 56, 256)       590080    \n",
            "_________________________________________________________________\n",
            "block3_pool (MaxPooling2D)   (None, 28, 28, 256)       0         \n",
            "_________________________________________________________________\n",
            "block4_conv1 (Conv2D)        (None, 28, 28, 512)       1180160   \n",
            "_________________________________________________________________\n",
            "block4_conv2 (Conv2D)        (None, 28, 28, 512)       2359808   \n",
            "_________________________________________________________________\n",
            "block4_conv3 (Conv2D)        (None, 28, 28, 512)       2359808   \n",
            "_________________________________________________________________\n",
            "block4_pool (MaxPooling2D)   (None, 14, 14, 512)       0         \n",
            "_________________________________________________________________\n",
            "block5_conv1 (Conv2D)        (None, 14, 14, 512)       2359808   \n",
            "_________________________________________________________________\n",
            "block5_conv2 (Conv2D)        (None, 14, 14, 512)       2359808   \n",
            "_________________________________________________________________\n",
            "block5_conv3 (Conv2D)        (None, 14, 14, 512)       2359808   \n",
            "_________________________________________________________________\n",
            "block5_pool (MaxPooling2D)   (None, 7, 7, 512)         0         \n",
            "_________________________________________________________________\n",
            "flatten_5 (Flatten)          (None, 25088)             0         \n",
            "_________________________________________________________________\n",
            "dropout_3 (Dropout)          (None, 25088)             0         \n",
            "_________________________________________________________________\n",
            "dropout_4 (Dropout)          (None, 25088)             0         \n",
            "_________________________________________________________________\n",
            "batch_normalization (BatchNo (None, 25088)             100352    \n",
            "_________________________________________________________________\n",
            "dense_3 (Dense)              (None, 2)                 50178     \n",
            "=================================================================\n",
            "Total params: 14,865,218\n",
            "Trainable params: 100,354\n",
            "Non-trainable params: 14,764,864\n",
            "_________________________________________________________________\n",
            "Epoch 1/10\n",
            "163/163 [==============================] - 137s 837ms/step - loss: 0.2398 - accuracy: 0.9145 - val_loss: 0.8827 - val_accuracy: 0.7324\n",
            "Epoch 2/10\n",
            "163/163 [==============================] - 134s 822ms/step - loss: 0.2081 - accuracy: 0.9321 - val_loss: 0.8554 - val_accuracy: 0.7997\n",
            "Epoch 3/10\n",
            "163/163 [==============================] - 136s 832ms/step - loss: 0.2219 - accuracy: 0.9352 - val_loss: 0.9638 - val_accuracy: 0.8317\n",
            "Epoch 4/10\n",
            "163/163 [==============================] - 135s 831ms/step - loss: 0.2304 - accuracy: 0.9371 - val_loss: 1.0824 - val_accuracy: 0.8301\n",
            "Epoch 5/10\n",
            "163/163 [==============================] - 135s 831ms/step - loss: 0.2399 - accuracy: 0.9408 - val_loss: 0.8032 - val_accuracy: 0.8814\n",
            "Epoch 6/10\n",
            "163/163 [==============================] - 135s 827ms/step - loss: 0.2427 - accuracy: 0.9413 - val_loss: 1.0614 - val_accuracy: 0.8782\n",
            "Epoch 7/10\n",
            "163/163 [==============================] - 135s 829ms/step - loss: 0.3064 - accuracy: 0.9373 - val_loss: 1.6817 - val_accuracy: 0.8333\n",
            "Epoch 8/10\n",
            "163/163 [==============================] - 135s 828ms/step - loss: 0.2777 - accuracy: 0.9421 - val_loss: 0.9195 - val_accuracy: 0.8878\n",
            "Epoch 9/10\n",
            "163/163 [==============================] - 135s 828ms/step - loss: 0.2475 - accuracy: 0.9446 - val_loss: 1.4197 - val_accuracy: 0.8526\n",
            "Epoch 10/10\n",
            "163/163 [==============================] - 135s 828ms/step - loss: 0.2935 - accuracy: 0.9419 - val_loss: 1.3874 - val_accuracy: 0.8590\n"
          ],
          "name": "stdout"
        },
        {
          "output_type": "display_data",
          "data": {
            "image/png": "[encoded data removed]",
            "text/plain": [
              "<Figure size 432x288 with 1 Axes>"
            ]
          },
          "metadata": {
            "tags": [],
            "needs_background": "light"
          }
        },
        {
          "output_type": "display_data",
          "data": {
            "image/png": "[encoded data removed]",
            "text/plain": [
              "<Figure size 432x288 with 1 Axes>"
            ]
          },
          "metadata": {
            "tags": [],
            "needs_background": "light"
          }
        }
      ]
    },
    {
      "cell_type": "code",
      "metadata": {
        "id": "JBMGDKc_e_Wf",
        "colab_type": "code",
        "colab": {}
      },
      "source": [
        ""
      ],
      "execution_count": null,
      "outputs": []
    }
  ]
}